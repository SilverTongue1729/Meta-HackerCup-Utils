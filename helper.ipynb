{
 "cells": [
  {
   "cell_type": "code",
   "execution_count": 2,
   "metadata": {},
   "outputs": [],
   "source": [
    "from utils import setup_problem_directory\n",
    "import os\n",
    "\n",
    "downloads_path = \"/home/sriteja/Competitive Programming new/Meta Hacker Cup/Downloads\"\n",
    "year = 2024\n",
    "round_name = \"Round 2\"\n",
    "problem_name = \"A\"\n",
    "\n",
    "problem_dir = setup_problem_directory(downloads_path, year, round_name, problem_name)"
   ]
  },
  {
   "cell_type": "code",
   "execution_count": 3,
   "metadata": {},
   "outputs": [],
   "source": [
    "from utils import setup_code_file\n",
    "\n",
    "compile_args = [\"-std=c++23\", \"-O3\"]\n",
    "code_file = f\"{problem_name}.cpp\"\n",
    "code_file_path = setup_code_file(problem_dir, code_file)"
   ]
  },
  {
   "cell_type": "code",
   "execution_count": 4,
   "metadata": {},
   "outputs": [],
   "source": [
    "from utils import compile_code\n",
    "\n",
    "compile_code(code_file_path, compile_args)"
   ]
  },
  {
   "cell_type": "code",
   "execution_count": 6,
   "metadata": {},
   "outputs": [],
   "source": [
    "from utils import handle_validation_input\n",
    "\n",
    "handle_validation_input(problem_dir, downloads_path, code_file_path, compile_args)"
   ]
  },
  {
   "cell_type": "code",
   "execution_count": null,
   "metadata": {},
   "outputs": [],
   "source": [
    "from utils import handle_final_input\n",
    "\n",
    "password = \"your_password_here\"\n",
    "handle_final_input(problem_dir, downloads_path, code_file_path, password, compile_args)"
   ]
  }
 ],
 "metadata": {
  "kernelspec": {
   "display_name": "Python 3",
   "language": "python",
   "name": "python3"
  },
  "language_info": {
   "codemirror_mode": {
    "name": "ipython",
    "version": 3
   },
   "file_extension": ".py",
   "mimetype": "text/x-python",
   "name": "python",
   "nbconvert_exporter": "python",
   "pygments_lexer": "ipython3",
   "version": "3.12.3"
  }
 },
 "nbformat": 4,
 "nbformat_minor": 2
}
